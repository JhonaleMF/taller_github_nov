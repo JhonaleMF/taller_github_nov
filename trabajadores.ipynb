{
 "cells": [
  {
   "cell_type": "markdown",
   "metadata": {},
   "source": [
    "Developer 1\n",
    "\n",
    "Nombre: Jhon\n",
    "\n",
    "mail: monca1078@gmail.com\n",
    "\n",
    "Developer 2\n",
    "\n",
    "Nombre: Jhon\n",
    "\n",
    "mail: jamf1997@hotmail.com\n",
    "\n",
    "Developer 3\n",
    "\n",
    "Nombre: Jhon\n",
    "\n",
    "mail: alejomo97@hotmail.com\n"
   ]
  }
 ],
 "metadata": {
  "language_info": {
   "name": "python"
  },
  "orig_nbformat": 4
 },
 "nbformat": 4,
 "nbformat_minor": 2
}
